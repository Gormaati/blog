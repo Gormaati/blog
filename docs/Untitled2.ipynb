{
 "cells": [
  {
   "cell_type": "code",
   "execution_count": 3,
   "id": "7035de6c",
   "metadata": {},
   "outputs": [
    {
     "ename": "AttributeError",
     "evalue": "module 'ccxt' has no attribute 'oanda'",
     "output_type": "error",
     "traceback": [
      "\u001b[0;31m---------------------------------------------------------------------------\u001b[0m",
      "\u001b[0;31mAttributeError\u001b[0m                            Traceback (most recent call last)",
      "Cell \u001b[0;32mIn[3], line 6\u001b[0m\n\u001b[1;32m      3\u001b[0m \u001b[38;5;28;01mimport\u001b[39;00m \u001b[38;5;21;01mtime\u001b[39;00m\n\u001b[1;32m      5\u001b[0m \u001b[38;5;66;03m# Configure your exchange and API keys\u001b[39;00m\n\u001b[0;32m----> 6\u001b[0m exchange \u001b[38;5;241m=\u001b[39m \u001b[43mccxt\u001b[49m\u001b[38;5;241;43m.\u001b[39;49m\u001b[43moanda\u001b[49m({\n\u001b[1;32m      7\u001b[0m     \u001b[38;5;124m'\u001b[39m\u001b[38;5;124mapiKey\u001b[39m\u001b[38;5;124m'\u001b[39m: \u001b[38;5;124m'\u001b[39m\u001b[38;5;124mYOUR_API_KEY\u001b[39m\u001b[38;5;124m'\u001b[39m,\n\u001b[1;32m      8\u001b[0m     \u001b[38;5;124m'\u001b[39m\u001b[38;5;124msecret\u001b[39m\u001b[38;5;124m'\u001b[39m: \u001b[38;5;124m'\u001b[39m\u001b[38;5;124mYOUR_SECRET_KEY\u001b[39m\u001b[38;5;124m'\u001b[39m,\n\u001b[1;32m      9\u001b[0m })\n\u001b[1;32m     11\u001b[0m \u001b[38;5;66;03m# Define the symbol for the forex pair (e.g., EUR/USD)\u001b[39;00m\n\u001b[1;32m     12\u001b[0m symbol \u001b[38;5;241m=\u001b[39m \u001b[38;5;124m'\u001b[39m\u001b[38;5;124mEUR/USD\u001b[39m\u001b[38;5;124m'\u001b[39m\n",
      "\u001b[0;31mAttributeError\u001b[0m: module 'ccxt' has no attribute 'oanda'"
     ]
    }
   ],
   "source": [
    "import ccxt\n",
    "import pandas as pd\n",
    "import time\n",
    "\n",
    "# Configure your exchange and API keys\n",
    "exchange = ccxt.oanda({\n",
    "    'apiKey': 'YOUR_API_KEY',\n",
    "    'secret': 'YOUR_SECRET_KEY',\n",
    "})\n",
    "\n",
    "# Define the symbol for the forex pair (e.g., EUR/USD)\n",
    "symbol = 'EUR/USD'\n",
    "\n",
    "# Set your strategy parameters\n",
    "short_ma_window = 5\n",
    "long_ma_window = 20\n",
    "\n",
    "def fetch_data(symbol):\n",
    "    \"\"\"Fetch historical OHLCV data\"\"\"\n",
    "    ohlcv = exchange.fetch_ohlcv(symbol, timeframe='1m', limit=long_ma_window)\n",
    "    df = pd.DataFrame(ohlcv, columns=['timestamp', 'open', 'high', 'low', 'close', 'volume'])\n",
    "    return df\n",
    "\n",
    "def calculate_moving_averages(df):\n",
    "    \"\"\"Calculate short and long moving averages\"\"\"\n",
    "    df['short_ma'] = df['close'].rolling(window=short_ma_window).mean()\n",
    "    df['long_ma'] = df['close'].rolling(window=long_ma_window).mean()\n",
    "    return df\n",
    "\n",
    "def generate_signal(df):\n",
    "    \"\"\"Generate buy/sell signals based on moving average crossover\"\"\"\n",
    "    if df['short_ma'].iloc[-1] > df['long_ma'].iloc[-1] and df['short_ma'].iloc[-2] <= df['long_ma'].iloc[-2]:\n",
    "        return 'buy'\n",
    "    elif df['short_ma'].iloc[-1] < df['long_ma'].iloc[-1] and df['short_ma'].iloc[-2] >= df['long_ma'].iloc[-2]:\n",
    "        return 'sell'\n",
    "    return None\n",
    "\n",
    "def main():\n",
    "    while True:\n",
    "        # Fetch the latest data\n",
    "        df = fetch_data(symbol)\n",
    "        \n",
    "        # Calculate the moving averages\n",
    "        df = calculate_moving_averages(df)\n",
    "        \n",
    "        # Generate a signal\n",
    "        signal = generate_signal(df)\n",
    "        \n",
    "        if signal:\n",
    "            print(f\"Signal detected: {signal.upper()} for {symbol}\")\n",
    "        else:\n",
    "            print(f\"No signal detected for {symbol}.\")\n",
    "        \n",
    "        # Wait before checking again\n",
    "        time.sleep(60)  # Wait for 1 minute before next check\n",
    "\n",
    "if __name__ == \"__main__\":\n",
    "    main()\n"
   ]
  },
  {
   "cell_type": "code",
   "execution_count": 2,
   "id": "8e40ee85",
   "metadata": {},
   "outputs": [
    {
     "name": "stdout",
     "output_type": "stream",
     "text": [
      "Collecting ccxt\n",
      "  Downloading ccxt-4.3.84-py2.py3-none-any.whl.metadata (116 kB)\n",
      "Requirement already satisfied: pandas in /Users/nkbabu/miniconda3/lib/python3.10/site-packages (1.5.3)\n",
      "Requirement already satisfied: setuptools>=60.9.0 in /Users/nkbabu/miniconda3/lib/python3.10/site-packages (from ccxt) (72.2.0)\n",
      "Requirement already satisfied: certifi>=2018.1.18 in /Users/nkbabu/miniconda3/lib/python3.10/site-packages (from ccxt) (2022.12.7)\n",
      "Requirement already satisfied: requests>=2.18.4 in /Users/nkbabu/miniconda3/lib/python3.10/site-packages (from ccxt) (2.28.1)\n",
      "Requirement already satisfied: cryptography>=2.6.1 in /Users/nkbabu/miniconda3/lib/python3.10/site-packages (from ccxt) (39.0.1)\n",
      "Requirement already satisfied: typing-extensions>=4.4.0 in /Users/nkbabu/miniconda3/lib/python3.10/site-packages (from ccxt) (4.12.2)\n",
      "Collecting aiohttp>=3.8 (from ccxt)\n",
      "  Downloading aiohttp-3.10.4-cp310-cp310-macosx_11_0_arm64.whl.metadata (7.5 kB)\n",
      "Collecting aiodns>=1.1.1 (from ccxt)\n",
      "  Downloading aiodns-3.2.0-py3-none-any.whl.metadata (4.0 kB)\n",
      "Collecting yarl>=1.7.2 (from ccxt)\n",
      "  Downloading yarl-1.9.4-cp310-cp310-macosx_11_0_arm64.whl.metadata (31 kB)\n",
      "Requirement already satisfied: python-dateutil>=2.8.1 in /Users/nkbabu/miniconda3/lib/python3.10/site-packages (from pandas) (2.8.2)\n",
      "Requirement already satisfied: pytz>=2020.1 in /Users/nkbabu/miniconda3/lib/python3.10/site-packages (from pandas) (2022.7)\n",
      "Requirement already satisfied: numpy>=1.21.0 in /Users/nkbabu/miniconda3/lib/python3.10/site-packages (from pandas) (1.24.2)\n",
      "Collecting pycares>=4.0.0 (from aiodns>=1.1.1->ccxt)\n",
      "  Downloading pycares-4.4.0-cp310-cp310-macosx_10_9_universal2.whl.metadata (4.1 kB)\n",
      "Collecting aiohappyeyeballs>=2.3.0 (from aiohttp>=3.8->ccxt)\n",
      "  Downloading aiohappyeyeballs-2.3.7-py3-none-any.whl.metadata (5.9 kB)\n",
      "Collecting aiosignal>=1.1.2 (from aiohttp>=3.8->ccxt)\n",
      "  Downloading aiosignal-1.3.1-py3-none-any.whl.metadata (4.0 kB)\n",
      "Requirement already satisfied: attrs>=17.3.0 in /Users/nkbabu/miniconda3/lib/python3.10/site-packages (from aiohttp>=3.8->ccxt) (22.1.0)\n",
      "Collecting frozenlist>=1.1.1 (from aiohttp>=3.8->ccxt)\n",
      "  Downloading frozenlist-1.4.1-cp310-cp310-macosx_11_0_arm64.whl.metadata (12 kB)\n",
      "Collecting multidict<7.0,>=4.5 (from aiohttp>=3.8->ccxt)\n",
      "  Downloading multidict-6.0.5-cp310-cp310-macosx_11_0_arm64.whl.metadata (4.2 kB)\n",
      "Collecting async-timeout<5.0,>=4.0 (from aiohttp>=3.8->ccxt)\n",
      "  Downloading async_timeout-4.0.3-py3-none-any.whl.metadata (4.2 kB)\n",
      "Requirement already satisfied: cffi>=1.12 in /Users/nkbabu/miniconda3/lib/python3.10/site-packages (from cryptography>=2.6.1->ccxt) (1.15.1)\n",
      "Requirement already satisfied: six>=1.5 in /Users/nkbabu/miniconda3/lib/python3.10/site-packages (from python-dateutil>=2.8.1->pandas) (1.16.0)\n",
      "Requirement already satisfied: charset-normalizer<3,>=2 in /Users/nkbabu/miniconda3/lib/python3.10/site-packages (from requests>=2.18.4->ccxt) (2.0.4)\n",
      "Requirement already satisfied: idna<4,>=2.5 in /Users/nkbabu/miniconda3/lib/python3.10/site-packages (from requests>=2.18.4->ccxt) (3.4)\n",
      "Requirement already satisfied: urllib3<1.27,>=1.21.1 in /Users/nkbabu/miniconda3/lib/python3.10/site-packages (from requests>=2.18.4->ccxt) (1.26.14)\n",
      "Requirement already satisfied: pycparser in /Users/nkbabu/miniconda3/lib/python3.10/site-packages (from cffi>=1.12->cryptography>=2.6.1->ccxt) (2.21)\n",
      "Downloading ccxt-4.3.84-py2.py3-none-any.whl (5.2 MB)\n",
      "\u001b[2K   \u001b[90m━━━━━━━━━━━━━━━━━━━━━━━━━━━━━━━━━━━━━━━━\u001b[0m \u001b[32m5.2/5.2 MB\u001b[0m \u001b[31m3.0 MB/s\u001b[0m eta \u001b[36m0:00:00\u001b[0ma \u001b[36m0:00:01\u001b[0m\n",
      "\u001b[?25hDownloading aiodns-3.2.0-py3-none-any.whl (5.7 kB)\n",
      "Downloading aiohttp-3.10.4-cp310-cp310-macosx_11_0_arm64.whl (388 kB)\n",
      "Downloading yarl-1.9.4-cp310-cp310-macosx_11_0_arm64.whl (79 kB)\n",
      "Downloading aiohappyeyeballs-2.3.7-py3-none-any.whl (12 kB)\n",
      "Downloading aiosignal-1.3.1-py3-none-any.whl (7.6 kB)\n",
      "Downloading async_timeout-4.0.3-py3-none-any.whl (5.7 kB)\n",
      "Downloading frozenlist-1.4.1-cp310-cp310-macosx_11_0_arm64.whl (52 kB)\n",
      "Downloading multidict-6.0.5-cp310-cp310-macosx_11_0_arm64.whl (30 kB)\n",
      "Downloading pycares-4.4.0-cp310-cp310-macosx_10_9_universal2.whl (136 kB)\n",
      "Installing collected packages: multidict, frozenlist, async-timeout, aiohappyeyeballs, yarl, pycares, aiosignal, aiohttp, aiodns, ccxt\n",
      "Successfully installed aiodns-3.2.0 aiohappyeyeballs-2.3.7 aiohttp-3.10.4 aiosignal-1.3.1 async-timeout-4.0.3 ccxt-4.3.84 frozenlist-1.4.1 multidict-6.0.5 pycares-4.4.0 yarl-1.9.4\n",
      "Note: you may need to restart the kernel to use updated packages.\n"
     ]
    }
   ],
   "source": [
    "pip install ccxt pandas\n"
   ]
  },
  {
   "cell_type": "code",
   "execution_count": null,
   "id": "5a4f5c58",
   "metadata": {},
   "outputs": [],
   "source": []
  }
 ],
 "metadata": {
  "kernelspec": {
   "display_name": "Python 3 (ipykernel)",
   "language": "python",
   "name": "python3"
  },
  "language_info": {
   "codemirror_mode": {
    "name": "ipython",
    "version": 3
   },
   "file_extension": ".py",
   "mimetype": "text/x-python",
   "name": "python",
   "nbconvert_exporter": "python",
   "pygments_lexer": "ipython3",
   "version": "3.10.9"
  }
 },
 "nbformat": 4,
 "nbformat_minor": 5
}
